{
 "cells": [
  {
   "cell_type": "markdown",
   "metadata": {},
   "source": [
    "# Manuscript Proof of Concept Code\n",
    "ColorNet and Modified Faster R-CNN white balance, rotation, and brightness correction from image input to image output\n",
    "\n",
    "### Instructions:\n",
    "- Place your images in ```./sample_images``` in their respective places.\n",
    "    - ISA ColorGauge Nano: place these images in the ```./sample_images/small``` folder.\n",
    "    - All other CRCs recommended by Nelson et al.: place these images in the ```./sample_images/big``` folder\n",
    "    \n",
    "    \n",
    "- For reliability, please use \"Restart & Run All\" to run this notebook.\n",
    "    - TensorFlow is imported within self-contained script files, and it exhibits odd behavior in Jupyter if the cell that imports the scripts is run multiple times.\n",
    "    \n",
    "- Outputs are found in the ```./results_imgs``` folder.\n",
    "\n",
    "### Notice:\n",
    "1. Most of the methods/functions are hidden within self-contained scripts:\n",
    "    - Test functions found within this notebook are found within ```./ColorNet/test_functions.py``` and ```./keras_frcnn/test_functions.py```\n",
    "        - Additional functions called by the test functions are found within other scripts.\n",
    "    - Though it is planned to be an importable class in the future (e.g. PyPi/pip module)\n",
    "\n",
    "\n",
    "2. All neural network models (including ColorNet and Modified Faster R-CNN) perform slower in a Jupyter notebook. Performance within the results of the manuscript were run through the terminal (\\*nix-like)/PowerShell prompt (Windows).\n",
    "\n",
    "\n",
    "\n",
    "3. The included functionality are quite similar to what may be found in HerbASAP (Powell et al., in prep)"
   ]
  },
  {
   "cell_type": "markdown",
   "metadata": {},
   "source": [
    "### Faster R-CNN (large CRC) white balancing:"
   ]
  },
  {
   "cell_type": "code",
   "execution_count": 1,
   "metadata": {},
   "outputs": [
    {
     "name": "stderr",
     "output_type": "stream",
     "text": [
      "Using TensorFlow backend.\n"
     ]
    },
    {
     "name": "stdout",
     "output_type": "stream",
     "text": [
      "models/keras_frcnn/model_frcnn.hdf5\n",
      "Processing: sample_images/big/20281325.jpg\n",
      "Average white (before processing): [234, 217, 204], CRC was located in Quadrant: 4\n",
      "Processing: sample_images/big/5655418.jpg\n",
      "Average white (before processing): [192, 218, 234], CRC was located in Quadrant: 1\n"
     ]
    }
   ],
   "source": [
    "from models.keras_frcnn.test_functions import *\n",
    "from glob import glob\n",
    "\n",
    "images = glob(\"sample_images/big/*.*\")\n",
    "\n",
    "for idx, img_name in enumerate(sorted(images)):\n",
    "    # Check if file is an image\n",
    "    if not img_name.lower().endswith(('.bmp', '.jpeg', '.jpg', '.png', '.tif', '.tiff')):\n",
    "        continue\n",
    "        \n",
    "    print(f\"Processing: {img_name}\")\n",
    "    \n",
    "    # Load image\n",
    "    img = cv2.imread(img_name)\n",
    "    \n",
    "    # Modified F-RCNN predicts large CRC location\n",
    "    x1, y1, x2, y2 = process_image_frcnn(img) \n",
    "    \n",
    "    # Crop the CRC for white value prediction\n",
    "    crc_im = img[y1:y2, x1:x2]\n",
    "    \n",
    "    # Take the white patch values\n",
    "    # Please see script file for details on the process:\n",
    "    # 1. OpenCV minMaxLoc() to find the whitest patch in the CRC image\n",
    "    # 2. OpenCV floodfilling to take all values within the white patch\n",
    "    # 3. OpenCV find_squares() to take a box of the floodfilled patch (noise reduction)\n",
    "    # 4. Take all pixels within the found white square and average the white\n",
    "    avg_white = predict_color_chip_whitevals(crc_im)[0] \n",
    "    \n",
    "    # White balance the image with the computed white values\n",
    "    img = white_balance(img, avg_white)\n",
    "    \n",
    "    # Rotate the image based on its location (centroid of the whole CRC). \n",
    "    # NOTE: All sample images have CRCs that are supposed to be on the lower right.\n",
    "    # This code will rotate the image with the CRC in the lower right.\n",
    "    # This is helpful due to many collections fixing their CRC at a specific \n",
    "    # location (e.g. at the border with the ruler).\n",
    "    # This may be changed if you want the CRC in another location (e.g. top left).\n",
    "    quad = predict_color_chip_quadrant((img.shape[0], img.shape[1]), (x1, y1, x2, y2))\n",
    "    if quad == 1:\n",
    "        img = cv2.rotate(img, cv2.ROTATE_90_CLOCKWISE)\n",
    "    elif quad == 2:\n",
    "        img = cv2.rotate(img, cv2.ROTATE_180)\n",
    "    elif quad == 3:\n",
    "        img = cv2.rotate(img, cv2.ROTATE_90_COUNTERCLOCKWISE)\n",
    "\n",
    "    \n",
    "    if img is not None:\n",
    "        print(f\"Average white (before processing): {avg_white}, CRC was located in Quadrant: {quad}\")\n",
    "        cv2.imwrite(f\"results_imgs/mfrcnn-{idx}.jpg\", img)"
   ]
  },
  {
   "cell_type": "markdown",
   "metadata": {},
   "source": [
    "### ColorNet (small CRC) white balancing"
   ]
  },
  {
   "cell_type": "code",
   "execution_count": 2,
   "metadata": {},
   "outputs": [
    {
     "name": "stdout",
     "output_type": "stream",
     "text": [
      "Processing: sample_images/small/rp_20913211-ea19-4f04-a5fe-850777599c2e.jpg\n",
      "Inference type: find_squares\n",
      "Average white (before processing): [222, 196, 184], CRC was located in Quadrant: 3\n",
      "Processing: sample_images/small/rp_30474213-d0a2-4a19-b593-0f545ed5c690.jpg\n",
      "Inference type: legacy\n",
      "Average white (before processing): [153, 166, 179], CRC was located in Quadrant: 2\n"
     ]
    }
   ],
   "source": [
    "from models.ColorNet.test_functions import *\n",
    "from glob import glob\n",
    "\n",
    "images = glob(\"sample_images/small/*.*\")\n",
    "\n",
    "for idx, img_name in enumerate(sorted(images)):\n",
    "    # Check if file is an image\n",
    "    if not img_name.lower().endswith(('.bmp', '.jpeg', '.jpg', '.png', '.tif', '.tiff')):\n",
    "        continue\n",
    "        \n",
    "    print(f\"Processing: {img_name}\")\n",
    "    \n",
    "    # Load image\n",
    "    img = cv2.imread(img_name)\n",
    "    original_size, img = scale_images_with_info(img)\n",
    "    \n",
    "    # ColorNet predicts large CRC location and gets image crop\n",
    "    (x1, y1, x2, y2), crc_im, _ = process_crc_small(img, original_size) \n",
    "    \n",
    "    # Take the white patch values\n",
    "    # Please see script file for details on the process:\n",
    "    # 1. OpenCV minMaxLoc() to find the whitest patch in the CRC image\n",
    "    # 2. OpenCV floodfilling to take all values within the white patch\n",
    "    # 3. OpenCV find_squares() to take a box of the floodfilled patch (noise reduction)\n",
    "    # 4. Take all pixels within the found white square and average the white\n",
    "    avg_white = predict_color_chip_whitevals(crc_im)[0] \n",
    "    \n",
    "    # White balance the image with the computed white values\n",
    "    img = white_balance(img, avg_white)\n",
    "    \n",
    "    # Rotate the image based on its location (centroid of the whole CRC). \n",
    "    # NOTE: All sample images have CRCs that are supposed to be on the lower right.\n",
    "    # This code will rotate the image with the CRC in the lower right.\n",
    "    # This is helpful due to many collections fixing their CRC at a specific \n",
    "    # location (e.g. at the border with the ruler).\n",
    "    # This may be changed if you want the CRC in another location (e.g. top left).\n",
    "    quad = predict_color_chip_quadrant((img.shape[0], img.shape[1]), (x1, y1, x2, y2))\n",
    "    if quad == 1:\n",
    "        img = cv2.rotate(img, cv2.ROTATE_90_CLOCKWISE)\n",
    "    elif quad == 2:\n",
    "        img = cv2.rotate(img, cv2.ROTATE_180)\n",
    "    elif quad == 3:\n",
    "        img = cv2.rotate(img, cv2.ROTATE_90_COUNTERCLOCKWISE)\n",
    "    \n",
    "    if img is not None:\n",
    "        print(f\"Average white (before processing): {avg_white}, CRC was located in Quadrant: {quad}\")\n",
    "        cv2.imwrite(f\"results_imgs/colornet-{idx}.jpg\", img)"
   ]
  },
  {
   "cell_type": "code",
   "execution_count": null,
   "metadata": {},
   "outputs": [],
   "source": []
  }
 ],
 "metadata": {
  "kernelspec": {
   "display_name": "Python [conda env:Shaw-A]",
   "language": "python",
   "name": "conda-env-Shaw-A-py"
  },
  "language_info": {
   "codemirror_mode": {
    "name": "ipython",
    "version": 3
   },
   "file_extension": ".py",
   "mimetype": "text/x-python",
   "name": "python",
   "nbconvert_exporter": "python",
   "pygments_lexer": "ipython3",
   "version": "3.7.4"
  }
 },
 "nbformat": 4,
 "nbformat_minor": 2
}
