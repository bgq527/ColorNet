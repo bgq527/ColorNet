{
 "cells": [
  {
   "cell_type": "code",
   "execution_count": null,
   "metadata": {},
   "outputs": [],
   "source": []
  },
  {
   "cell_type": "code",
   "execution_count": 1,
   "metadata": {},
   "outputs": [
    {
     "name": "stderr",
     "output_type": "stream",
     "text": [
      "Using TensorFlow backend.\n"
     ]
    }
   ],
   "source": [
    "from keras_frcnn.test_functions import *"
   ]
  },
  {
   "cell_type": "code",
   "execution_count": 4,
   "metadata": {},
   "outputs": [
    {
     "name": "stdout",
     "output_type": "stream",
     "text": [
      "['sample_images/big/19466725.jpg', 'sample_images/big/20281325.jpg']\n",
      "sample_images/big/19466725.jpg\n",
      "(6000, 4000, 3) (2666, 2560, 3946, 4586)\n",
      "(606, 644)\n",
      "sample_images/big/20281325.jpg\n",
      "(6000, 4000, 3) (3093, 3200, 3733, 4373)\n",
      "(56, 1167)\n"
     ]
    }
   ],
   "source": [
    "total_time = 0\n",
    "img_path = \"sample_images/big/\"\n",
    "from glob import glob\n",
    "\n",
    "images = glob(f\"{img_path}/*.*\")\n",
    "print(images)\n",
    "for idx, img_name in enumerate(sorted(images)):\n",
    "    print(img_name)\n",
    "    if not img_name.lower().endswith(('.bmp', '.jpeg', '.jpg', '.png', '.tif', '.tiff')):\n",
    "        continue\n",
    "    img = cv2.imread(img_name)\n",
    "\n",
    "    inference_start = Timer()\n",
    "    x1, y1, x2, y2 = process_image_frcnn(img)\n",
    "    avg_white = predict_color_chip_whitevals()\n",
    "    \n",
    "    print(img.shape, cc_location)\n",
    "    crc_im = img[y1:y2, x1:x2]\n",
    "    img = high_precision_wb(img, crc_im)\n",
    "    if img is not None:\n",
    "        cv2.imwrite(f\"results_imgs/{idx}.jpg\", img)"
   ]
  },
  {
   "cell_type": "code",
   "execution_count": null,
   "metadata": {},
   "outputs": [],
   "source": []
  }
 ],
 "metadata": {
  "kernelspec": {
   "display_name": "Python [conda env:Shaw-A]",
   "language": "python",
   "name": "conda-env-Shaw-A-py"
  },
  "language_info": {
   "codemirror_mode": {
    "name": "ipython",
    "version": 3
   },
   "file_extension": ".py",
   "mimetype": "text/x-python",
   "name": "python",
   "nbconvert_exporter": "python",
   "pygments_lexer": "ipython3",
   "version": "3.7.4"
  }
 },
 "nbformat": 4,
 "nbformat_minor": 2
}
